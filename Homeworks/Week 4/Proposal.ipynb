{
 "cells": [
  {
   "cell_type": "markdown",
   "id": "db6973e4",
   "metadata": {},
   "source": [
    "###**DATA 620 Assignment 03**\n",
    "Group members: Mahmud Hasan Al Raji and Warner Alexis.\n",
    "[GitHub](https://github.com/Raji030/Data620_Assignment03_Group_Effort/blob/main/Data620_Assignment03_GroupEffort.ipynb)\n"
   ]
  },
  {
   "cell_type": "markdown",
   "id": "4113b457",
   "metadata": {},
   "source": [
    "The Deezer Europe Social Network dataset consists of 28,281 users and 92,752 mutual follower relationships, making it a large yet sparse network with a density of only 0.00023. On average, each user maintains about 6.56 connections, and the clustering coefficient of 0.0959 indicates a modest tendency toward small friendship circles where friends of friends are also connected. Because not all users belong to the same connected component, the largest connected component (LCC) is extracted to provide a meaningful foundation for further analysis. This dataset, with its binary gender labels, offers a valuable opportunity to explore centrality measures across categories, assess homophily, and compare how structural importance differs between groups."
   ]
  },
  {
   "cell_type": "code",
   "execution_count": 1,
   "id": "cb3664a0",
   "metadata": {},
   "outputs": [],
   "source": [
    "import networkx as nx\n",
    "import pandas as pd\n",
    "import matplotlib.pyplot as plt \n",
    "import numpy as np \n",
    "\n"
   ]
  },
  {
   "cell_type": "markdown",
   "id": "cf81b596",
   "metadata": {},
   "source": [
    "we perform our anlysis using the library above and create different metrics to plan for our project "
   ]
  },
  {
   "cell_type": "code",
   "execution_count": 2,
   "id": "ed66334c",
   "metadata": {},
   "outputs": [
    {
     "name": "stdout",
     "output_type": "stream",
     "text": [
      "<class 'pandas.core.frame.DataFrame'>\n",
      "RangeIndex: 92752 entries, 0 to 92751\n",
      "Data columns (total 2 columns):\n",
      " #   Column  Non-Null Count  Dtype\n",
      "---  ------  --------------  -----\n",
      " 0   node_1  92752 non-null  int64\n",
      " 1   node_2  92752 non-null  int64\n",
      "dtypes: int64(2)\n",
      "memory usage: 1.4 MB\n",
      "<class 'pandas.core.frame.DataFrame'>\n",
      "RangeIndex: 28281 entries, 0 to 28280\n",
      "Data columns (total 2 columns):\n",
      " #   Column  Non-Null Count  Dtype\n",
      "---  ------  --------------  -----\n",
      " 0   id      28281 non-null  int64\n",
      " 1   target  28281 non-null  int64\n",
      "dtypes: int64(2)\n",
      "memory usage: 442.0 KB\n"
     ]
    },
    {
     "data": {
      "text/plain": [
       "(None,\n",
       " None,\n",
       "    node_1  node_2\n",
       " 0       0   14270\n",
       " 1       0   16976\n",
       " 2       0   12029\n",
       " 3       0    3001\n",
       " 4       0   14581,\n",
       "    id  target\n",
       " 0   0       0\n",
       " 1   1       0\n",
       " 2   2       0\n",
       " 3   3       1\n",
       " 4   4       0)"
      ]
     },
     "execution_count": 2,
     "metadata": {},
     "output_type": "execute_result"
    }
   ],
   "source": [
    "# laod the edge files \n",
    "edges = pd.read_csv('https://raw.githubusercontent.com/Raji030/data620_assignment03_deezer_edges/refs/heads/main/deezer_europe_edges.csv')\n",
    "targets = pd.read_csv('https://raw.githubusercontent.com/Raji030/data620_assignment03_deezer_target/refs/heads/main/deezer_europe_target.csv')\n",
    "\n",
    "# Shwo infor \n",
    "edges_info = edges.info()\n",
    "targets_info = targets.info()\n",
    "\n",
    "edges_head = edges.head()\n",
    "targets_head = targets.head()\n",
    "\n",
    "edges_info, targets_info, edges_head, targets_head\n"
   ]
  },
  {
   "cell_type": "code",
   "execution_count": 3,
   "id": "23b9542c",
   "metadata": {},
   "outputs": [],
   "source": [
    "# create graph from column names \n",
    "G = nx.from_pandas_edgelist(edges, source = \"node_1\", target=\"node_2\")\n",
    "target_dict = pd.Series(targets.target.values, index=targets.id).to_dict()\n",
    "nx.set_node_attributes(G , target_dict, \"label\")\n",
    "\n"
   ]
  },
  {
   "cell_type": "markdown",
   "id": "7f1efbbb",
   "metadata": {},
   "source": [
    "The Deezer Europe Social Network comprises 28,281 users and 92,752 edges, where each edge corresponds to a mutual follower relationship. The network is highly sparse, with a density of only 0.00023, meaning that users connect to a very small fraction of all possible connections, an expected property of large-scale social platforms where relationships are formed selectively. On average, each user maintains approximately 6.56 connections, reinforcing the observation that while the network is large, individual connectivity is relatively modest. The clustering coefficient of 0.0959 suggests a moderate likelihood of triadic closure: if one user connects with two others, there is roughly a 9.6% chance that those two users are also connected. This highlights the presence of localized friendship circles or small communities within the broader structure. Because not all nodes are guaranteed to be part of the same connected component, the largest connected component (LCC) is extracted for analysis, ensuring that centrality measures and categorical comparisons are computed on the most structurally meaningful portion of the graph."
   ]
  },
  {
   "cell_type": "code",
   "execution_count": 4,
   "id": "a33aef33",
   "metadata": {},
   "outputs": [
    {
     "name": "stdout",
     "output_type": "stream",
     "text": [
      "Number of nodes :28281\n",
      "Number of edges; 92752\n",
      "The density is : 0.00023194184729358083\n",
      "the Average degree 6.559315441462466\n",
      "transitivity: 0.09592226364671026\n"
     ]
    }
   ],
   "source": [
    "# Basic Statistics \n",
    "n_nodes = G.number_of_nodes()\n",
    "n_edges = G.number_of_edges()\n",
    "density = nx.density(G)\n",
    "avg_degree = sum(dict(G.degree()).values()) / n_nodes\n",
    "transitivity = nx.transitivity(G)\n",
    "\n",
    "print(f'Number of nodes :{n_nodes}')\n",
    "print(f'Number of edges; {n_edges}')\n",
    "print(f'The density is : {density}')\n",
    "print(f'the Average degree {avg_degree}')\n",
    "print(f'transitivity: {transitivity}')"
   ]
  },
  {
   "cell_type": "code",
   "execution_count": 5,
   "id": "9c36b1f4",
   "metadata": {},
   "outputs": [],
   "source": [
    "# Extract largest connected component\n",
    "largest_cc_nodes = max(nx.connected_components(G), key=len)\n",
    "G_lcc = G.subgraph(largest_cc_nodes).copy()\n",
    "lcc_size = len(largest_cc_nodes)"
   ]
  },
  {
   "cell_type": "code",
   "execution_count": 6,
   "id": "4460cdf1",
   "metadata": {},
   "outputs": [],
   "source": [
    "# Build summary table\n",
    "stats_df = pd.DataFrame({\n",
    "    \"Statistic\": [\n",
    "        \"Number of Nodes\",\n",
    "        \"Number of Edges\",\n",
    "        \"Density\",\n",
    "        \"Average Degree\",\n",
    "        \"Transitivity (Clustering)\",\n",
    "        \"Largest Connected Component (Nodes)\"\n",
    "    ],\n",
    "    \"Value\": [\n",
    "        n_nodes,\n",
    "        n_edges,\n",
    "        round(density, 6),\n",
    "        round(avg_degree, 3),\n",
    "        round(transitivity, 4),\n",
    "        lcc_size\n",
    "    ]\n",
    "})"
   ]
  },
  {
   "cell_type": "code",
   "execution_count": 7,
   "id": "ddfbd9cb",
   "metadata": {},
   "outputs": [
    {
     "data": {
      "text/html": [
       "<div>\n",
       "<style scoped>\n",
       "    .dataframe tbody tr th:only-of-type {\n",
       "        vertical-align: middle;\n",
       "    }\n",
       "\n",
       "    .dataframe tbody tr th {\n",
       "        vertical-align: top;\n",
       "    }\n",
       "\n",
       "    .dataframe thead th {\n",
       "        text-align: right;\n",
       "    }\n",
       "</style>\n",
       "<table border=\"1\" class=\"dataframe\">\n",
       "  <thead>\n",
       "    <tr style=\"text-align: right;\">\n",
       "      <th></th>\n",
       "      <th>Statistic</th>\n",
       "      <th>Value</th>\n",
       "    </tr>\n",
       "  </thead>\n",
       "  <tbody>\n",
       "    <tr>\n",
       "      <th>0</th>\n",
       "      <td>Number of Nodes</td>\n",
       "      <td>28281.000000</td>\n",
       "    </tr>\n",
       "    <tr>\n",
       "      <th>1</th>\n",
       "      <td>Number of Edges</td>\n",
       "      <td>92752.000000</td>\n",
       "    </tr>\n",
       "    <tr>\n",
       "      <th>2</th>\n",
       "      <td>Density</td>\n",
       "      <td>0.000232</td>\n",
       "    </tr>\n",
       "    <tr>\n",
       "      <th>3</th>\n",
       "      <td>Average Degree</td>\n",
       "      <td>6.559000</td>\n",
       "    </tr>\n",
       "    <tr>\n",
       "      <th>4</th>\n",
       "      <td>Transitivity (Clustering)</td>\n",
       "      <td>0.095900</td>\n",
       "    </tr>\n",
       "    <tr>\n",
       "      <th>5</th>\n",
       "      <td>Largest Connected Component (Nodes)</td>\n",
       "      <td>28281.000000</td>\n",
       "    </tr>\n",
       "  </tbody>\n",
       "</table>\n",
       "</div>"
      ],
      "text/plain": [
       "                             Statistic         Value\n",
       "0                      Number of Nodes  28281.000000\n",
       "1                      Number of Edges  92752.000000\n",
       "2                              Density      0.000232\n",
       "3                       Average Degree      6.559000\n",
       "4            Transitivity (Clustering)      0.095900\n",
       "5  Largest Connected Component (Nodes)  28281.000000"
      ]
     },
     "execution_count": 7,
     "metadata": {},
     "output_type": "execute_result"
    }
   ],
   "source": [
    "stats_df\n"
   ]
  },
  {
   "cell_type": "markdown",
   "id": "d43a52db",
   "metadata": {},
   "source": [
    "To make these statistics interpretable and provide meaningful insights, several visualizations will be incorporated into the analysis. A histogram of degree distribution, plotted on a log-log scale, will illustrate how connectivity varies across users while highlighting the existence of highly connected hubs. A boxplot of degree centrality by gender will compare connectivity between male and female users, enabling us to assess whether one group tends to maintain more connections. The bar chart of class distribution will show the proportion of users in each gender category, providing a quick assessment of balance or skew in the dataset. A pie chart of homophily will capture the tendency of users to connect with others of the same gender versus across genders. Finally, a subgraph visualization (sampling 200–300 nodes) will be produced, where nodes are colored by gender and sized by degree centrality, offering an intuitive view of the network’s structure and categorical clustering."
   ]
  },
  {
   "cell_type": "markdown",
   "id": "9111818c",
   "metadata": {},
   "source": [
    "The purpose of this project is to investigate how structural importance in the Deezer Europe Social Network differs across categorical groups, with a particular focus on the binary gender attribute assigned to each user. The project aims to construct the network from the provided edge list, attach categorical information to each node, and calculate node-level measures such as degree centrality and eigenvector centrality to capture both direct connectivity and overall influence. These measures will then be compared across gender categories using descriptive statistics and visualizations, including histograms and boxplots, to identify potential patterns or disparities. To formally assess whether any observed differences are statistically significant, appropriate statistical tests, such as t-tests or non-parametric alternatives, will be applied. Ultimately, this analysis seeks to interpret the results in the context of social network behavior, providing insight into whether gender plays a role in shaping connectivity patterns and positions of influence within a large-scale online community."
   ]
  },
  {
   "cell_type": "code",
   "execution_count": 9,
   "id": "f7860515",
   "metadata": {},
   "outputs": [
    {
     "name": "stderr",
     "output_type": "stream",
     "text": [
      "[NbConvertApp] Converting notebook Proposal.ipynb to pdf\n",
      "[NbConvertApp] Writing 33597 bytes to notebook.tex\n",
      "[NbConvertApp] Building PDF\n",
      "[NbConvertApp] Running xelatex 3 times: ['xelatex', 'notebook.tex', '-quiet']\n",
      "[NbConvertApp] Running bibtex 1 time: ['bibtex', 'notebook']\n",
      "[NbConvertApp] WARNING | b had problems, most likely because there were no citations\n",
      "[NbConvertApp] PDF successfully created\n",
      "[NbConvertApp] Writing 40360 bytes to Proposal.pdf\n"
     ]
    }
   ],
   "source": [
    "!jupyter nbconvert --to pdf Proposal.ipynb"
   ]
  },
  {
   "cell_type": "code",
   "execution_count": null,
   "id": "61a8ab63",
   "metadata": {},
   "outputs": [],
   "source": []
  }
 ],
 "metadata": {
  "kernelspec": {
   "display_name": "base",
   "language": "python",
   "name": "python3"
  },
  "language_info": {
   "codemirror_mode": {
    "name": "ipython",
    "version": 3
   },
   "file_extension": ".py",
   "mimetype": "text/x-python",
   "name": "python",
   "nbconvert_exporter": "python",
   "pygments_lexer": "ipython3",
   "version": "3.13.5"
  }
 },
 "nbformat": 4,
 "nbformat_minor": 5
}
